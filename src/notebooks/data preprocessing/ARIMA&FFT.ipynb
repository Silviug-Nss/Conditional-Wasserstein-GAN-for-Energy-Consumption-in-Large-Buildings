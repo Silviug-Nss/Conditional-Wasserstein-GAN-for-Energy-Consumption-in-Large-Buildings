{
 "cells": [
  {
   "cell_type": "markdown",
   "metadata": {},
   "source": [
    "# ARIMA&FFT"
   ]
  },
  {
   "cell_type": "code",
   "execution_count": null,
   "metadata": {},
   "outputs": [],
   "source": [
    "import numpy as np\n",
    "import pmdarima as pm\n",
    "from scipy.fft import rfft, irfft\n",
    "import matplotlib.pyplot as plt"
   ]
  },
  {
   "cell_type": "code",
   "execution_count": null,
   "metadata": {},
   "outputs": [],
   "source": [
    "%matplotlib inline"
   ]
  },
  {
   "cell_type": "code",
   "execution_count": null,
   "metadata": {
    "scrolled": true
   },
   "outputs": [],
   "source": [
    "data = np.load('../../data/processed/labeled_data.npz')\n",
    "electrical_values = data['electrical_values']\n",
    "labels = data['labels']"
   ]
  },
  {
   "cell_type": "markdown",
   "metadata": {},
   "source": [
    "## ARIMA"
   ]
  },
  {
   "cell_type": "code",
   "execution_count": null,
   "metadata": {
    "scrolled": true
   },
   "outputs": [],
   "source": [
    "arimas = [None] * len(electrical_values) # 507\n",
    "\n",
    "for i, electrical_value in enumerate(electrical_values):\n",
    "    arima_model = pm.auto_arima(electrical_value, start_p=1, d=1, start_q=1, max_p=2, max_d=1, max_q=2, seasonal=False, \\\n",
    "                                information_criterion='aicc')\n",
    "    arimas[i] = arima_model"
   ]
  },
  {
   "cell_type": "code",
   "execution_count": null,
   "metadata": {
    "scrolled": true
   },
   "outputs": [],
   "source": [
    "nr_plots = 10\n",
    "arimas_fitted = [arima.predict_in_sample() for arima in arimas]\n",
    "\n",
    "for arima_fitted, electrical_value in zip(arimas_fitted[:nr_plots], electrical_values[:nr_plots]):\n",
    "    arima_fitted[0] = electrical_value[0]\n",
    "    arima_fitted[-1] = electrical_value[-1]\n",
    "    plt.figure()\n",
    "    plt.plot(electrical_value, 'b')\n",
    "    plt.plot(arima_fitted, 'r')\n",
    "    plt.show()"
   ]
  },
  {
   "cell_type": "code",
   "execution_count": null,
   "metadata": {},
   "outputs": [],
   "source": [
    "for arima in arimas:\n",
    "    print(arima.summary())"
   ]
  },
  {
   "cell_type": "markdown",
   "metadata": {},
   "source": [
    "## FFT"
   ]
  },
  {
   "cell_type": "code",
   "execution_count": null,
   "metadata": {},
   "outputs": [],
   "source": [
    "ffts = [None] * len(electrical_values) # 507\n",
    "\n",
    "for i, electrical_value in enumerate(electrical_values):\n",
    "    freqs = rfft(electrical_value)\n",
    "    new_electrical_values = []\n",
    "    for nr_vals in [1, 10, 100, 1000]:\n",
    "        new_electrical_values.append(irfft(freqs[:nr_vals], n=len(electrical_value))) # 8760\n",
    "    ffts[i] = new_electrical_values\n",
    "ffts = np.array(ffts)\n",
    "print(ffts[0], len(ffts[0]))"
   ]
  },
  {
   "cell_type": "code",
   "execution_count": null,
   "metadata": {
    "scrolled": true
   },
   "outputs": [],
   "source": [
    "nr_plots = 10\n",
    "\n",
    "for fft, electrical_value in zip(ffts[:nr_plots], electrical_values[:nr_plots]):\n",
    "    plt.figure()\n",
    "    plt.plot(electrical_value)\n",
    "    plt.show()\n",
    "    plt.figure()\n",
    "    f, ((ax0, ax1), (ax2, ax3)) = plt.subplots(2, 2, sharex='col', sharey='row')\n",
    "    ax0.plot(fft[0])\n",
    "    ax1.plot(fft[1])\n",
    "    ax2.plot(fft[2])\n",
    "    ax3.plot(fft[3])\n",
    "    plt.show()"
   ]
  },
  {
   "cell_type": "code",
   "execution_count": null,
   "metadata": {},
   "outputs": [],
   "source": [
    "ffts[0]"
   ]
  },
  {
   "cell_type": "code",
   "execution_count": null,
   "metadata": {},
   "outputs": [],
   "source": [
    "combined_data = [None] * len(electrical_values) # 507\n",
    "\n",
    "for i, (electrical_value, arima_fitted, fft) in enumerate(zip(electrical_values, arimas_fitted, ffts)):\n",
    "    electrical_value = np.expand_dims(electrical_value, 0)\n",
    "    arima_fitted = np.expand_dims(arima_fitted, 0)\n",
    "    data_row = np.concatenate((electrical_value, arima_fitted, fft), 0)\n",
    "    combined_data[i] = data_row\n",
    "\n",
    "combined_data = np.array(combined_data)\n",
    "print(combined_data[:10])"
   ]
  },
  {
   "cell_type": "code",
   "execution_count": null,
   "metadata": {},
   "outputs": [],
   "source": [
    "np.savez_compressed('../../data/processed/combined_data.npz', combined_data=combined_data, labels=labels)"
   ]
  }
 ],
 "metadata": {
  "hide_input": false,
  "kernelspec": {
   "display_name": "Python 3 (ipykernel)",
   "language": "python",
   "name": "python3"
  },
  "language_info": {
   "codemirror_mode": {
    "name": "ipython",
    "version": 3
   },
   "file_extension": ".py",
   "mimetype": "text/x-python",
   "name": "python",
   "nbconvert_exporter": "python",
   "pygments_lexer": "ipython3",
   "version": "3.7.11"
  }
 },
 "nbformat": 4,
 "nbformat_minor": 1
}
